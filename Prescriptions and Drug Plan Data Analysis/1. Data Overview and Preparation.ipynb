{
 "cells": [
  {
   "cell_type": "markdown",
   "id": "6d4c684a",
   "metadata": {},
   "source": [
    "#### The Monthly Public Use File\n",
    "\n",
    "The Monthly Public Use File (PUF) contains monthly detailed information about prescription drug plans (PDPs) and Medicare Advantage plans with drug coverage (MA-PDs).The [dataset](https://data.cms.gov/provider-summary-by-type-of-service/medicare-part-d-prescribers/monthly-prescription-drug-plan-formulary-and-pharmacy-network-information) can be downloaded from Centers for [Medicare & Medicaid Services (CMS)](https://data.cms.gov/) website. The source for this dataset is the Medicare Plan Finder (MPF) tool in [Medicare.gov](https://www.medicare.gov/), and it is updated biweekly. \n",
    "\n",
    "\n",
    "##### Data Preparation\n",
    "\n",
    "The dataset consists of 8 separate ASCII files with pipe (|) delimiter. The data for June 30, 2025 was downloaded from the website and converted to CSV files using VScode. \n",
    "\n",
    "The empty cells in the CSV files were replaced with NULL since PostgreSQL did not allow to import data with empty cells. There were single full-stop marks in some empty cells. Those were replaced by NULL and the leading and trailing spaces in cells were removed. The Clean_data.py script was used to perform the above cleaning steps.\n",
    "\n",
    "Then the CSV files were imported to a PostgreSQL database using PgAdmin4. The Pharmacy networks file is too large keep as a one file (about 20 GB), therefore it was imported as six separate files.\n",
    "\n",
    "Below is a sample query used to create a table and import data into the PostgreSQL database."
   ]
  },
  {
   "cell_type": "markdown",
   "id": "6246f18a",
   "metadata": {},
   "source": [
    "```sql\n",
    "CREATE TABLE insulin_beneficiary_cost (\n",
    "    pdp_region_code int,\n",
    "    plan_id int,\n",
    "    county_code int,\n",
    "    snp int,\n",
    "    segment_id int,\n",
    "    formulary_id int,\n",
    "    premium numeric,\n",
    "    deductible numeric,\n",
    "    ma_region_code int,\n",
    "    plan_suppressed_yn varchar,\n",
    "    contract_name varchar,\n",
    "    plan_name varchar,\n",
    "    state_name varchar,\n",
    "    contract_id varchar\n",
    ");\n",
    "\n",
    "COPY insulin_beneficiary_cost\n",
    "FROM '/Users/tharinduabeysinghe/Downloads/Monthly_Prescription/Cleaned/cleaned_file.csv'\n",
    "WITH (\n",
    "    FORMAT csv,\n",
    "    NULL 'NULL',\n",
    "    QUOTE '\"',\n",
    "    HEADER false\n",
    ");"
   ]
  }
 ],
 "metadata": {
  "kernelspec": {
   "display_name": "sqlenv",
   "language": "python",
   "name": "python3"
  },
  "language_info": {
   "codemirror_mode": {
    "name": "ipython",
    "version": 3
   },
   "file_extension": ".py",
   "mimetype": "text/x-python",
   "name": "python",
   "nbconvert_exporter": "python",
   "pygments_lexer": "ipython3",
   "version": "3.11.4"
  }
 },
 "nbformat": 4,
 "nbformat_minor": 5
}
