{
 "cells": [
  {
   "cell_type": "markdown",
   "id": "90cf3537",
   "metadata": {},
   "source": [
    "### Relational Databases\n",
    "\n",
    "A relational database stores and provide access to data points that are related to each other. We can create, read, update, and delete the data in the relational databases using a Relational Database Management Systems (RDBMS).\n",
    "\n",
    "Within a relational database, records are stored in tables.\n",
    "\n",
    "#### Primary Key\n",
    "A unique identifier field in a table. Every table has a unique key which must be unique and cannot be NULL.\n",
    "\n",
    "#### Composite Key\n",
    "A key made by combining two attributes together to identify entries uniquely.\n",
    "\n",
    "\n",
    "What makes the relational database relational is the relation between the data stored in the tables.\n",
    "\n",
    "\n",
    "#### Foreign Key\n",
    "A field or a collection of field that refers to the primay key of another table. Eg: if the field X is common for tables A and B, and X is the primary key of the table B, filed X is a foreign key to the table A. \n",
    "\n",
    "When the number of tables become large in a database, the database can become very complex. The fundamentals to be focused at this situation is, \n",
    "\n",
    " 1. Each table has a primary which cannot be null.\n",
    " 2. For each relationship a table has to another table, a foreign key is required to define the relationship between the tables.\n",
    "\n",
    "#### Index\n",
    "Index is a special lookup method. Index is used to retrive data faster from a database than otherwise. The concept is similar to the index in the back of a table"
   ]
  },
  {
   "cell_type": "markdown",
   "id": "dce93bf6",
   "metadata": {},
   "source": [
    "### Entity Relationship Diagrams\n",
    "A very useful step between gathering requirements and building a database is creating an Entity Relationship Diagram (ERD). This diagram help us to get a good knowledge between the relationship of entities and identify redundant attributes across tables.\n",
    "\n",
    "The entities often be people, things, events, or locations. Once the entities are identified, the attributes we want to store in the database should be decided. The overlapping attributes across tables will act as foreign keys."
   ]
  },
  {
   "cell_type": "markdown",
   "id": "07ff692b",
   "metadata": {},
   "source": [
    "To be completed.."
   ]
  },
  {
   "cell_type": "markdown",
   "id": "ed4d77e9",
   "metadata": {},
   "source": [
    "### Reference\n",
    "- [Designing a Relational Database and Creating an Entity Relationship Diagram](https://towardsdatascience.com/designing-a-relational-database-and-creating-an-entity-relationship-diagram-89c1c19320b2)\n",
    "- [SQL Tutorials - W3 Schools](https://www.w3schools.com/sql/default.asp)"
   ]
  },
  {
   "cell_type": "code",
   "execution_count": null,
   "id": "34c1ebb2",
   "metadata": {},
   "outputs": [],
   "source": []
  }
 ],
 "metadata": {
  "kernelspec": {
   "display_name": "Python 3 (ipykernel)",
   "language": "python",
   "name": "python3"
  },
  "language_info": {
   "codemirror_mode": {
    "name": "ipython",
    "version": 3
   },
   "file_extension": ".py",
   "mimetype": "text/x-python",
   "name": "python",
   "nbconvert_exporter": "python",
   "pygments_lexer": "ipython3",
   "version": "3.11.4"
  }
 },
 "nbformat": 4,
 "nbformat_minor": 5
}
